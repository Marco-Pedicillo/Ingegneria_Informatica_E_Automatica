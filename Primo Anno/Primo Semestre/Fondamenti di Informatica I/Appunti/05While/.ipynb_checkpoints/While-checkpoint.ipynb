{
 "cells": [
  {
   "cell_type": "markdown",
   "metadata": {
    "slideshow": {
     "slide_type": "slide"
    }
   },
   "source": [
    "#### Autori: Domenico Lembo, Giuseppe Santucci and Marco Schaerf\n",
    "\n",
    "[Dipartimento di Ingegneria informatica, automatica e gestionale](https://www.diag.uniroma1.it)\n",
    "\n",
    "<img src=\"https://mirrors.creativecommons.org/presskit/buttons/88x31/png/by-nc-sa.eu.png\"\n",
    "     alt=\"License\"\n",
    "     style=\"float: left;\"\n",
    "     height=\"40\" width=\"100\" />\n",
    "This notebook is distributed with license Creative Commons *CC BY-NC-SA*"
   ]
  },
  {
   "cell_type": "markdown",
   "metadata": {},
   "source": [
    "# Ciclo While\n",
    "\n",
    "1. Iterazioni (numero di ripetizioni noto o ignoto)\n",
    "  + 1.1 Istruzione while\n",
    "  + 1.2 Esempio: stringa casuale che termina per \"o\"\n",
    "  + 1.3 Esempio: ciclo di controllo su interi negativi e positivi\n",
    "2. Ciclo while controllato da \"sentinella\"\n",
    "3. Cicli definiti ed indefiniti \n",
    "6. Esempio uso del While per ripetere programma\n",
    "8. Esercizi"
   ]
  },
  {
   "cell_type": "markdown",
   "metadata": {},
   "source": [
    "### Iterazioni\n",
    "In molte situazioni alcune istruzioni devono essere ripetute più volte, come ad esempio leggere una sequenza di numeri e calcolarne la somma. Se sappiamo quanti sono i numeri da leggere potremmo, in teoria, creare abbastanza variabili, leggere tutti i numeri, memorizzare ciascun numero in una variabile e poi sommare tutte le variabili. Questo è molto inefficiente se il numero di input è alto, ma diventa addirittura impossibile se non sappiamo in precedenza quanti numeri dovremo sommare.\n",
    "\n",
    "Per risolvere questi problemi useremo le istruzioni di ciclo di Python, oggi introduciamo l'istruzione `while`"
   ]
  },
  {
   "cell_type": "markdown",
   "metadata": {},
   "source": [
    "#### Istruzione while\n",
    "L'istruzione `while` in Python ha il seguente formato:\n",
    "\n",
    "```python\n",
    "while condizione:\n",
    "    istruzione1\n",
    "    istruzione2\n",
    "    ....\n",
    "    istruzionen\n",
    "```\n",
    "\n",
    "L'istruzione `while` dell'esempio sopra va letta nel seguente modo:\n",
    "*Finché la condizione è vera, esegui le istruzioni da 1 a n*.\n",
    "La condizione è un'espressione booleana il cui valore può essere `True` o `False`.\n",
    "L'esecuzione dell'istruzione `while` avviene nel seguente modo:\n",
    "1. Si verifica se la condizione è `True`\n",
    "  * In caso positivo, vengono eseguite le istruzioni e si torna al punto 1\n",
    "  * In caso negativo, il ciclo termina e si esegue la prima istruzione FUORI dal ciclo While\n",
    "  \n",
    "\n",
    "Di seguito un semplice diagramma di flusso che rappresenta graficamente una generica istruzione `while`.\n",
    "\n",
    "<img src=\"./immagini/FlussoWhileS.png\" alt=\"drawing\" style=\"width:300px;\" align=\"middle\"/>"
   ]
  },
  {
   "cell_type": "code",
   "execution_count": 1,
   "metadata": {},
   "outputs": [
    {
     "name": "stdout",
     "output_type": "stream",
     "text": [
      "Inserisci una stringa: ciao\n",
      "c\n",
      "i\n",
      "a\n",
      "o\n"
     ]
    }
   ],
   "source": [
    "#Esempio\n",
    "\n",
    "s = input('Inserisci una stringa: ')\n",
    "\n",
    "i = 0\n",
    "while i < len(s):\n",
    "    print(s[i])\n",
    "    i += 1\n",
    "    "
   ]
  },
  {
   "cell_type": "markdown",
   "metadata": {},
   "source": [
    "Già da questo semplice esempio si vedono alcuni degli elementi principali che costituiscono un ciclo: \n",
    "\n",
    "(a) inizializzazione della variabile `i`, chiamata variabile di controllo del ciclo (`i = 0`); \n",
    "\n",
    "(b) specifica della condizione, che deve essere vera perchè si esegua il ciclo (`i < len(s)`); \n",
    "\n",
    "(c) definizione dell'operazione da eseguire (`print(s[i])`); \n",
    "\n",
    "(d) incremento della variabile di controllo (`i += 1` )\n",
    "\n",
    "Quanto appena detto costituisce uno schema di base che, come vedremo, può avere diverse varianti. "
   ]
  },
  {
   "cell_type": "markdown",
   "metadata": {},
   "source": [
    "#### Esempio: stringa casuale che termina per \"o\"\n",
    "scrivere un programma che stampa una stringa casuale di sole lettere alfabetiche minuscole che termina con il carattere 'o' e non contiene altre 'o' al suo interno."
   ]
  },
  {
   "cell_type": "code",
   "execution_count": null,
   "metadata": {},
   "outputs": [],
   "source": [
    "# Soluzione\n",
    "import random\n",
    "c=333  #qualunque intero diverso da ord('o')\n",
    "\n",
    "while chr(c)!=\"o\":\n",
    "    c=random.randint(ord(\"a\"),ord(\"z\"))\n",
    "    print(chr(c)) # se usiamo print(chr(c),end='') la stringa è stampata in una sola riga.\n",
    "    \n",
    "# in questo caso la variabile di controllo è la variabile c"
   ]
  },
  {
   "cell_type": "markdown",
   "metadata": {},
   "source": [
    "#### Esempio: ciclo di controllo su valore in un intervallo\n",
    "\n",
    "In questo esempio vogliamo che l'utente inserisca un valore tra 1 e 10, per impedire che venga inserito un valore scorretto, il programma chiede ripetutamente all'utente di inserire un numero stampando l'intero inserito solo quando viene inserito un valore corretto. Si noti comunque che il programma assume che venga sempre inserito un intero."
   ]
  },
  {
   "cell_type": "code",
   "execution_count": null,
   "metadata": {},
   "outputs": [],
   "source": [
    "corretto=False\n",
    "while not corretto:\n",
    "    s=input(\"Inserisci un intero tra 1 e 10: \")\n",
    "    n=int(s)\n",
    "    if n >=1 and n <= 10:\n",
    "        print(\"Il valore inserito è corretto:\")\n",
    "        corretto = True\n",
    "print(n)"
   ]
  },
  {
   "cell_type": "markdown",
   "metadata": {},
   "source": [
    "### Ciclo while controllato da \"sentinella\"\n",
    "\n",
    "La condizione del `while` è in questo caso dipendente dai valori inseriti iterativamente in input dall'utente, ed il ciclo termina quando l'utente inserisce un valore speciale, detto *valore sentinella*. Questo valore in genere non è significativo per la computazione che il ciclo deve effettuare ed ha come unico scopo quello di comunicare al programma che il ciclo deve interrompersi. \n",
    "\n",
    "Se vogliamo leggere una sequenza di n elementi terminata da un valore *sentinella*, abbiamo\n",
    "tre operazioni da svolgere (non necessariamente nell'ordine): \n",
    "- leggere un elemento\n",
    "- valutare la condizione\n",
    "- elaborare l'elemento letto\n",
    "\n",
    "In particolare possiamo usare uno schema che prevede la *lettura solo nel ciclo*, oppure *lettura prima e dentro il ciclo* (interessanti vantaggi)"
   ]
  },
  {
   "cell_type": "code",
   "execution_count": null,
   "metadata": {},
   "outputs": [],
   "source": [
    "# gestione sequenza di n>=0 interi con LETTURA SOLO DENTRO IL CICLO\n",
    "# inizializzazione variabile di controllo del ciclo prima del ciclo stesso.\n",
    "# Nel while: prima leggo ed assegno alla variabile i quelloc ho letto e poi, \n",
    "# if i!=sentinella, elaboro\n",
    "\n",
    "i=\"0\" # la variabile di controllo è inizializzata ad un valore che forza l'esecuzione del ciclo (prima iterazione) \n",
    "while i!=\"*\":  # * è il valore \"sentinella\"\n",
    "    i=input(\"inserici un intero  (* per terminare): \")\n",
    "    if i!='*':\n",
    "        print(\"Hai inserito:\",int(i))\n",
    "    \n",
    "    \n",
    "# il ciclo while viene eseguito n+1 volte \n",
    "# (per chiarezza: n+1 è il numero di volte che viene \n",
    "# eseguito il blocco di istruzioni contenuto nel ciclo;\n",
    "# l'ultima volta è per l'inserimento della sentinella).\n",
    "# La condizione del while (i!=\"*\") viene verificata \n",
    "# una volta in più, quella in cui fallisce e si esce \n",
    "# dal ciclo. Questo è sempre vero quando si usa il while"
   ]
  },
  {
   "cell_type": "markdown",
   "metadata": {},
   "source": [
    "Quando si decide di avere letture solo nel ciclo è importante ricordarsi di: \n",
    "- (a) inizializzare la variabile di controllo ad un valore che forzi l'esecuzione del ciclo almeno una volta \n",
    "- (b) evitare di processare il dato quando viene inserita la \"sentinella\" (input speciale che indica la terminazione della sequenza)."
   ]
  },
  {
   "cell_type": "code",
   "execution_count": null,
   "metadata": {},
   "outputs": [],
   "source": [
    "# gestione sequenza di n>=0 interi con LETTURA FUORI DAL CICLO\n",
    "# leggo una sola volta fuori ciclo\n",
    "# nel while: prima elaboro e poi leggo (senza if)\n",
    "\n",
    "i=input(\"inserici un intero  (* per terminare): \")\n",
    "while i!=\"*\":\n",
    "    print(\"Hai inserito:\",int(i))\n",
    "    i=input(\"inserici un intero  (* per terminare): \")\n",
    "    \n",
    "# il ciclo while viene eseguito n volte\n",
    "# (ma le letture sono sempre n+1)"
   ]
  },
  {
   "cell_type": "markdown",
   "metadata": {},
   "source": [
    "Di seguito proponiamo una variante dello schema con lettura solo dentro il ciclo, in cui si utilizza una variabile di controllo Booleana."
   ]
  },
  {
   "cell_type": "code",
   "execution_count": null,
   "metadata": {},
   "outputs": [],
   "source": [
    "# gestione sequenza di n>=0 interi con LETTURA SOLO DENTRO IL CICLO\n",
    "# e variabile di controllo del ciclo booleana.\n",
    "# Occorre eseguire la prima parte del ciclo per vedere se il ciclo è terminato\n",
    "\n",
    "finito=False\n",
    "\n",
    "while not finito:\n",
    "    i=input(\"inserici un intero  (* per terminare): \")\n",
    "    if i==\"*\":\n",
    "        finito=True\n",
    "    else:\n",
    "        print(\"Hai inserito:\",int(i))\n",
    "\n",
    "# il ciclo while viene eseguito n+1 volte"
   ]
  },
  {
   "cell_type": "markdown",
   "metadata": {},
   "source": [
    "### Cicli definiti ed indefiniti \n",
    "\n",
    "Il programma che conta gli elementi di una sequenza fino all'inserimento di una sentinella contiene un ciclo *indefinito* perchè il numero delle iterazioni che verranno eseguite *non* è prevedibile analizzando il contenuto delle variabili all'inizio del ciclo. \n",
    "\n",
    "Nei casi in cui questo numero di iterazioni è invece prevedibile sulla base del valore delle variabili all'inizio del ciclo, si parla di cicli *definiti*. Di seguito riportiamo due esempi di cicli definiti (anche il primo esempio di ciclo `while` contenuto in questa sezione è in effetti un esempio di ciclo definito. Infatti, all'inizio del ciclo sappiamo già di quanti elementi è composta la stringa s (basta calcolare len(s)). Tutti gli altri esempi fin qui visti si refiriscono a cicli indefiniti). "
   ]
  },
  {
   "cell_type": "code",
   "execution_count": null,
   "metadata": {},
   "outputs": [],
   "source": [
    "## programma che stampa per n volte la parola CIAO, con n acquisito da tastiera\n",
    "\n",
    "n = int(input(\"inserisci il numero di volte che vuoi stampare la parola 'CIAO'\"))\n",
    "i=1\n",
    "while i <=n:\n",
    "    print('CIAO')\n",
    "    i+=1"
   ]
  },
  {
   "cell_type": "code",
   "execution_count": null,
   "metadata": {},
   "outputs": [],
   "source": [
    "## Programma che acquisisce un numero intero e stampa \n",
    "## in ordine decrescente, a partire da questo, i numeri \n",
    "## interi fino allo zero incluso\n",
    " \n",
    "\n",
    "n = int(input(\"Inserire un numero intero non negativo: \"))\n",
    "\n",
    "while n >= 0: \n",
    "    print(n)  \n",
    "    n = n-1\n"
   ]
  },
  {
   "cell_type": "markdown",
   "metadata": {},
   "source": [
    "### Esempio uso del while per ripetere programma\n"
   ]
  },
  {
   "cell_type": "code",
   "execution_count": null,
   "metadata": {},
   "outputs": [],
   "source": [
    "#ripetizione programma\n",
    "\n",
    "finito=False\n",
    "while not finito:\n",
    "    \n",
    "    #--Inizio programma\n",
    "    n=int(input(\"inserisci un intero positivo: \"))\n",
    "    print(\"il carattere corrispondente a\", n, \"è\", chr(n))\n",
    "    #--Fine programma\n",
    "    \n",
    "    s1=input(\"----Finisco (si/no)? \")\n",
    "    if s1.lower()==\"si\":\n",
    "        finito=True"
   ]
  },
  {
   "cell_type": "markdown",
   "metadata": {},
   "source": [
    "### Esercizi\n",
    "Completate questi esercizi prima di cominciare il prossimo argomento"
   ]
  },
  {
   "cell_type": "markdown",
   "metadata": {},
   "source": [
    "### Esercizio 1: \n",
    "Scrivere un programma che legge una sequenza di stringhe inserite da input (una alla volta), ne stampa la lunghezza e termina all'inserimento di una stringa vuota (solo invio).\n",
    "\n",
    "*Fornite due soluzioni, una con prima lettura fuori dal ciclo ed una soluzione con lettura solo nel ciclo*"
   ]
  },
  {
   "cell_type": "code",
   "execution_count": null,
   "metadata": {},
   "outputs": [],
   "source": [
    "#Esercizio: legge stringhe e calcola lunghezza (con prima lettura fuori dal ciclo)\n"
   ]
  },
  {
   "cell_type": "code",
   "execution_count": null,
   "metadata": {
    "scrolled": true
   },
   "outputs": [],
   "source": [
    "#Esercizio: legge stringhe e calcola lunghezza (con lettura solo nel ciclo)\n"
   ]
  },
  {
   "cell_type": "markdown",
   "metadata": {},
   "source": [
    "### Esercizio 2:\n",
    "Scrivere un programma che legge da input una sequenza di interi positivi terminata da '*' e per ognuno stampa a schermo se è pari o dispari."
   ]
  },
  {
   "cell_type": "code",
   "execution_count": null,
   "metadata": {},
   "outputs": [],
   "source": [
    "#lettera di una sequenza di interi positivi terminata da '*' e per ognuno stampa a schermo se è pari o dispari."
   ]
  },
  {
   "cell_type": "markdown",
   "metadata": {},
   "source": [
    "### Esercizio 3:\n",
    "Scrivere un programma che legge da tastiera una stringa `s` ed un carattere `c` e stampa a schermo una nuova stringa uguale ad `s` ma senza la prima occorrenza del carattere `c`: 'casa','a'->> 'csa'.<br>Se il carattere `c` non compare in `s` il programma stampa la stringa `s`. Fornite 2 soluzioni, una che usa il ciclo while ed una che non usa né il while né il metodo `replace()`"
   ]
  },
  {
   "cell_type": "code",
   "execution_count": null,
   "metadata": {},
   "outputs": [],
   "source": []
  },
  {
   "cell_type": "code",
   "execution_count": null,
   "metadata": {},
   "outputs": [],
   "source": []
  }
 ],
 "metadata": {
  "kernelspec": {
   "display_name": "Python 3 (ipykernel)",
   "language": "python",
   "name": "python3"
  },
  "language_info": {
   "codemirror_mode": {
    "name": "ipython",
    "version": 3
   },
   "file_extension": ".py",
   "mimetype": "text/x-python",
   "name": "python",
   "nbconvert_exporter": "python",
   "pygments_lexer": "ipython3",
   "version": "3.9.7"
  }
 },
 "nbformat": 4,
 "nbformat_minor": 4
}
