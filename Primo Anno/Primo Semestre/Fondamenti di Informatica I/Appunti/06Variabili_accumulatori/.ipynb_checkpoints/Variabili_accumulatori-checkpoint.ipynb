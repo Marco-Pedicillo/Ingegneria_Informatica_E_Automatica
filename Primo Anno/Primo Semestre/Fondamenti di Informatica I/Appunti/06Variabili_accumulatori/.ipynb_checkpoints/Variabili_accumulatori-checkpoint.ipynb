{
 "cells": [
  {
   "cell_type": "markdown",
   "metadata": {
    "slideshow": {
     "slide_type": "slide"
    }
   },
   "source": [
    "#### Autori: Domenico Lembo, Giuseppe Santucci and Marco Schaerf\n",
    "\n",
    "[Dipartimento di Ingegneria informatica, automatica e gestionale](https://www.diag.uniroma1.it)\n",
    "\n",
    "<img src=\"https://mirrors.creativecommons.org/presskit/buttons/88x31/png/by-nc-sa.eu.png\"\n",
    "     alt=\"License\"\n",
    "     style=\"float: left;\"\n",
    "     height=\"40\" width=\"100\" />\n",
    "This notebook is distributed with license Creative Commons *CC BY-NC-SA*"
   ]
  },
  {
   "cell_type": "markdown",
   "metadata": {},
   "source": [
    "# Soluzione problemi con cicli e variabili accumulatori\n",
    "\n",
    "1. Variabili di tipo accumulatore\n",
    "3. Cicli con accumulatori \n",
    "  + 3.1 Esempio: somma interi da tastiera con sentinella\n",
    "  + 3.2 Esempio: somma interi da tastiera fino al superamento di una soglia\n",
    "4. Ricerca di valori caratteristici in una sequenza o insieme\n",
    "  + 4.1 Esempio: trovare il minimo in una sequenza di interi\n",
    "4. Cicli che analizzano elementi adiacenti di una sequenza\n",
    "6. Trova gli errori e correggi\n",
    "8. Esercizi"
   ]
  },
  {
   "cell_type": "markdown",
   "metadata": {},
   "source": [
    "### Variabili di tipo accumulatore\n"
   ]
  },
  {
   "cell_type": "markdown",
   "metadata": {},
   "source": [
    "Un uso molto frequente delle variabili è di usarle per memorizzare valori che cambiano durante l'esecuzione del programma. In molti problemi, non siamo in grado di calcolare direttamente la soluzionie, ma la otteniamo attarverso vari passaggi duranti i quali la variabile memorizza un valore parziale, che solo alla fine diventa quello definitivo."
   ]
  },
  {
   "cell_type": "markdown",
   "metadata": {},
   "source": [
    "### Cicli con accumulatori\n",
    "\n",
    "Spesso in un ciclo si ha la necessità di *accumulare* i valori di una sequenza o insieme usando una variabile, chiamata appunto accumulatore. Il significato di accumulare dipende dall'obiettivo della computazione che il ciclo deve effettuare. Ad esempio, può significare effettuare una somma, o una moltiplicazione, o una concatenazione di stringhe, ecc. Alla fine del ciclo la variabile usata come accumulatore contiene il valore finale che si intendeva calcolare attraverso il ciclo. In genere si accumula *fino alla scansione completa di una sequenza*, o *fino al raggiungimento di una certo valore* per l'accumulatore (vedi esempi successivi)\n",
    "\n",
    "L'accumulatore deve essere inizializzato prima di entrare nel ciclo. In genere è inizializzato ad un valore neutro rispetto all'operazione utilizzata per accumulare dati. Se ad esempio vogliamo accumulare numeri (interi o frazionari) eseguendo delle somme, l'accumulatore dovrà essere inizializzato a `0`. Similmente, se l'operazione di accumulazione fosse una moltiplicazione di numeri, si dovrebbe inizializzare l'accumulatore al valore `1`."
   ]
  },
  {
   "cell_type": "markdown",
   "metadata": {},
   "source": [
    "#### Esempio: somma interi letti da tastiera con sentinella per terminare l'inserimento\n",
    "Scrivere un programma che somma una serie di interi letti da tastiera e si ferma quando si introduce un asterisco $*$."
   ]
  },
  {
   "cell_type": "code",
   "execution_count": 1,
   "metadata": {},
   "outputs": [
    {
     "name": "stdin",
     "output_type": "stream",
     "text": [
      "Inserisci un intero  (* per terminare)  10\n"
     ]
    },
    {
     "name": "stdout",
     "output_type": "stream",
     "text": [
      "somma parziale=  10\n"
     ]
    },
    {
     "name": "stdin",
     "output_type": "stream",
     "text": [
      "Inserisci un intero  (* per terminare)  20\n"
     ]
    },
    {
     "name": "stdout",
     "output_type": "stream",
     "text": [
      "somma parziale=  30\n"
     ]
    },
    {
     "name": "stdin",
     "output_type": "stream",
     "text": [
      "Inserisci un intero  (* per terminare)  -1\n"
     ]
    },
    {
     "name": "stdout",
     "output_type": "stream",
     "text": [
      "somma parziale=  29\n"
     ]
    },
    {
     "name": "stdin",
     "output_type": "stream",
     "text": [
      "Inserisci un intero  (* per terminare)  -11\n"
     ]
    },
    {
     "name": "stdout",
     "output_type": "stream",
     "text": [
      "somma parziale=  18\n"
     ]
    },
    {
     "name": "stdin",
     "output_type": "stream",
     "text": [
      "Inserisci un intero  (* per terminare)  *\n"
     ]
    },
    {
     "name": "stdout",
     "output_type": "stream",
     "text": [
      "somma parziale=  18\n",
      "totale =  18\n"
     ]
    }
   ],
   "source": [
    "# 1: versione con LETTURA SOLO DENTRO IL CICLO (almeno una esecuzione del ciclo)\n",
    "\n",
    "s=\"c\"  #qualunque carattere diverso da '*'\n",
    "somma=0 # somma è l'accumulatore\n",
    "while s!=\"*\":\n",
    "    s=input(\"Inserisci un intero  (* per terminare) \")\n",
    "    if s != '*':\n",
    "        somma=somma+int(s)\n",
    "    print(\"somma parziale= \",somma)    \n",
    "        \n",
    "print(\"totale = \",somma)        "
   ]
  },
  {
   "cell_type": "code",
   "execution_count": 2,
   "metadata": {},
   "outputs": [
    {
     "name": "stdin",
     "output_type": "stream",
     "text": [
      "Inserisci un intero  (* per terminare)  10\n"
     ]
    },
    {
     "name": "stdout",
     "output_type": "stream",
     "text": [
      "somma parziale=  10\n"
     ]
    },
    {
     "name": "stdin",
     "output_type": "stream",
     "text": [
      "Inserisci un intero  (* per terminare)  2\n"
     ]
    },
    {
     "name": "stdout",
     "output_type": "stream",
     "text": [
      "somma parziale=  12\n"
     ]
    },
    {
     "name": "stdin",
     "output_type": "stream",
     "text": [
      "Inserisci un intero  (* per terminare)  -5\n"
     ]
    },
    {
     "name": "stdout",
     "output_type": "stream",
     "text": [
      "somma parziale=  7\n"
     ]
    },
    {
     "name": "stdin",
     "output_type": "stream",
     "text": [
      "Inserisci un intero  (* per terminare)  *\n"
     ]
    },
    {
     "name": "stdout",
     "output_type": "stream",
     "text": [
      "totale =  7\n"
     ]
    }
   ],
   "source": [
    "# 2: versione con prima LETTURA FUORI DAL CICLO (è possibile che il ciclo non venga mai eseguito)\n",
    "s=input(\"Inserisci un intero  (* per terminare) \")\n",
    "somma=0\n",
    "\n",
    "while s!=\"*\":\n",
    "    if s != '*':\n",
    "        somma=somma+int(s)\n",
    "    print(\"somma parziale= \",somma)\n",
    "    s=input(\"Inserisci un intero  (* per terminare) \")\n",
    "\n",
    "print(\"totale = \",somma)"
   ]
  },
  {
   "cell_type": "markdown",
   "metadata": {},
   "source": [
    "In generale, il ciclo while con accumulatore è utile tutte le volte in cui si intende aumentare (o diminuire o aggiornare) incrementalmente un certo valore sulla base degli elementi presenti in una sequenza (o insieme), ispezionati (ad esempio, letti da input) uno alla volta fino al completamento della sequenza, come nel caso della conta dei suoi elementi (si vedano anche esercizi alla fine della sezione)."
   ]
  },
  {
   "cell_type": "markdown",
   "metadata": {},
   "source": [
    "#### Esempio: somma interi da tastiera fino al superamento di una soglia\n",
    "Si consideri il seguente programma che legge una sequenza di n>=0 interi e li somma sino al raggiungimento di un obiettivo: somma >100"
   ]
  },
  {
   "cell_type": "code",
   "execution_count": null,
   "metadata": {},
   "outputs": [],
   "source": [
    "somma=0\n",
    "while somma<100:   \n",
    "    i=input(\"inserisci un intero : \")\n",
    "    somma=somma+int(i)\n",
    "\n",
    "print(\"La somma vale: \",somma)"
   ]
  },
  {
   "cell_type": "markdown",
   "metadata": {},
   "source": [
    "#### Esempio: accumulatore con le stringhe: cancellazione carattere da stringa\n",
    "Il seguente programma legge da tastiera una stringa `s` ed un carattere `c` e stampa a schermo una nuova stringa uguale ad `s` ma senza la prima occorrenza del carattere `c`: 'casa','a'->> 'csa'. Se il carattere `c` non compare in `s` il programma stampa la stringa `s`. Il programma è fornito a scopo esemplificativo e per questo non fa uso del metodo `replace()`, che consentirebbe di risolvere il problema in questione con un'unica istruzione."
   ]
  },
  {
   "cell_type": "code",
   "execution_count": 3,
   "metadata": {},
   "outputs": [
    {
     "name": "stdout",
     "output_type": "stream",
     "text": [
      "immetti una stringa: pippo\n",
      "immetti un carattere: p\n",
      "ippo\n"
     ]
    }
   ],
   "source": [
    "s = input('immetti una stringa: ')\n",
    "c = input('immetti un carattere: ')\n",
    "\n",
    "i=0\n",
    "s1=''\n",
    "cancella=s.find(c)\n",
    "while(i<len(s)):\n",
    "    if i!=cancella:\n",
    "        s1=s1+s[i]\n",
    "    i=i+1\n",
    "print(s1)\n",
    "\n",
    "# in alternativa, dopo le due istruzioni per la lettura dell'input\n",
    "# per risolvere il problema è possibile usare semplicemente l'istruzione \n",
    "# s.replace(c,'',1)"
   ]
  },
  {
   "cell_type": "markdown",
   "metadata": {},
   "source": [
    "**Esercizio**: fornite una soluzione che non fa uso del ciclo `while` e non fa uso del metodo `replace()` (vedi Esercizio 3 alla fine della sezione)."
   ]
  },
  {
   "cell_type": "markdown",
   "metadata": {},
   "source": [
    "### Ricerca di valori caratteristici di una sequenza o insieme\n",
    "\n",
    "In questo caso il ciclo è usato per determinare un valore caratteristico tra i valori in una sequenza o insieme "
   ]
  },
  {
   "cell_type": "markdown",
   "metadata": {},
   "source": [
    "#### Esempio Trovare il minimo in una sequenza di interi\n",
    "Scrivere un programma che legge una sequenza di interi (letta da input e terminata dall'introduzione di un asterisco) e ne calcola il minimo"
   ]
  },
  {
   "cell_type": "code",
   "execution_count": null,
   "metadata": {},
   "outputs": [],
   "source": [
    "s=input(\"inserisci un intero  (* per terminare) \")\n",
    "\n",
    "if s != '*':\n",
    "    n = int(s) \n",
    "    minimo = n # per ora il minimo è il primo letto\n",
    "while s != '*':\n",
    "    n = int(s)\n",
    "    if n < minimo:\n",
    "        minimo = n\n",
    "    s=input(\"inserisci un intero  (* per terminare) \")\n",
    "print(minimo)"
   ]
  },
  {
   "cell_type": "markdown",
   "metadata": {},
   "source": [
    "**Nota:**\n",
    "Nel programma precedente abbiamo inizializzato la variabile minimo al primo valore letto. NON possiamo inizializzarlo ad un numero diverso, anche se molto alto, perchè non esiste in Python un intero che è sicuramente più grande di tutti gli altri numeri interi. Notate che se esistesse questo numero potremmo usarlo per inizializzare la variabile `minimo`, perchè i numeri inseriti sarebbero tutti minori o uguali di tale numero, e quindi il programma sarebbe corretto.\n"
   ]
  },
  {
   "cell_type": "markdown",
   "metadata": {},
   "source": [
    "**Nota2:** Cosa succede nell'esercizio precedente se inseriamo `'*'` come primo carattere della sequenza? Come potete risolvere il problema che si verifica in questo caso?"
   ]
  },
  {
   "cell_type": "markdown",
   "metadata": {},
   "source": [
    "### Cicli che analizzano elementi adiacenti di una sequenza\n",
    "\n",
    "In questo caso, ad ogni iterazione si devono confrontare elementi fra loro (almeno) due elementi della sequenza in input. \n",
    "\n",
    "Ad esempio, consideriamo il seguente programma il cui scopo è contare quante volte vengono inserite consecutivamente da input due stringhe uguali. Più precisamente, il programma legge una sequenza di stringhe (terminate da stringa vuota '') e conta quante volte 2 stringhe consecutive sono uguali. \n",
    "\n",
    "*Nota bene*: bisogna memorizzare la penultima stringa letta. Per dare in input una stringa vuota basta digitare invio."
   ]
  },
  {
   "cell_type": "code",
   "execution_count": null,
   "metadata": {},
   "outputs": [],
   "source": [
    "s=input(\"inserisci una stringa (stringa vuota per terminare): \")\n",
    "\n",
    "conta = 0 # per ora non ho ancora trovato coppie di stringhe uguali adiacenti\n",
    "precedente = s\n",
    "while s != '':\n",
    "    s=input(\"inserisci una stringa (stringa vuota per terminare): \")\n",
    "    if s==precedente:\n",
    "        conta += 1\n",
    "    precedente = s\n",
    "print(conta)"
   ]
  },
  {
   "cell_type": "markdown",
   "metadata": {},
   "source": [
    "### Esercizio: trova gli errori e correggi\n",
    "Il seguente programma dovrebbe calcolare la moltiplicazione di una serie di interi letti da tastiera fermandosi quando si introduce un asterisco $*$, ma contiene diversi errori. Correggili ed eseguilo sulla sequenza di input `3 1 10 1 2 *`. Il risultato che devi ottenere è 60"
   ]
  },
  {
   "cell_type": "code",
   "execution_count": null,
   "metadata": {},
   "outputs": [],
   "source": [
    "#versione con prima lettura esterna al ciclo (è possibile che il ciclo non venga mai eseguito)\n",
    "s=input(\"Inserisci un intero  (* per terminare) \")\n",
    "s=int(s)\n",
    "m=0\n",
    "\n",
    "while s!=\"*\":\n",
    "   if len(s)>0 and (s.isdecimal() or (s[0] in \"+-\" and s[1:].isdecimal()):\n",
    "      s=int(s)\n",
    "     m=m*int(s)\n",
    "    s=input(\"Inserisci un intero  (* per terminare) \")\n",
    "\n",
    "print(\"totale = \",M)"
   ]
  },
  {
   "cell_type": "markdown",
   "metadata": {},
   "source": [
    "### Esercizi\n",
    "Completate questi esercizi prima di cominciare il prossimo argomento"
   ]
  },
  {
   "cell_type": "markdown",
   "metadata": {},
   "source": [
    "### Esercizio 1: \n",
    "Scrivere un programma che legge una sequenza di stringhe inserite da input (una alla volta) e termina all'inserimento di una stringa vuota (solo invio) stampando a schermo il numero di stringhe non vuote inserite.\n",
    "\n",
    "*Fornite due soluzioni, una con prima lettura fuori dal ciclo ed una soluzione con lettura solo nel ciclo*"
   ]
  },
  {
   "cell_type": "code",
   "execution_count": null,
   "metadata": {},
   "outputs": [],
   "source": [
    "#Esercizio: conta stringhe (con prima lettura fuori dal ciclo)\n",
    "s=input('inserisci una stringa: ')\n",
    "while s!=' ':\n",
    "    "
   ]
  },
  {
   "cell_type": "code",
   "execution_count": null,
   "metadata": {
    "scrolled": true
   },
   "outputs": [],
   "source": [
    "#Esercizio: conta stringhe (con lettura solo nel ciclo)\n"
   ]
  },
  {
   "cell_type": "markdown",
   "metadata": {},
   "source": [
    "### Esercizio 2:\n",
    "Scrivere un programma che legge una sequenza di n>0 interi (letta da input e terminata dall'introduzione di un asterisco), ne calcola il massimo e lo stampa a schermo."
   ]
  },
  {
   "cell_type": "code",
   "execution_count": null,
   "metadata": {},
   "outputs": [],
   "source": [
    "#max di una sequenza di n>0 interi \n"
   ]
  },
  {
   "cell_type": "markdown",
   "metadata": {},
   "source": [
    "### Esercizio 3:\n",
    "Scrivere un programma che legge da tastiera una stringa `s` ed un carattere `c` e stampa a schermo una nuova stringa uguale ad `s` ma senza la prima occorrenza del carattere `c`: 'casa','a'->> 'csa'.<br>Se il carattere `c` non compare in `s` il programma stampa la stringa `s`.\n",
    "\n",
    "*FORNIRE UNA SOLUZIONE CHE NON FA USO DEL while e non fa uso del metodo `replace()`*"
   ]
  },
  {
   "cell_type": "code",
   "execution_count": null,
   "metadata": {},
   "outputs": [],
   "source": []
  },
  {
   "cell_type": "markdown",
   "metadata": {},
   "source": [
    "### Esercizio 4:\n",
    "Scrivere un programma che calcola la media di una sequenza di n>=0 interi (letta da input e terminata dall'introduzione di un asterisco) e la stampa a schermo. Nel caso n=0, stampare un messaggio che avvisa che non sono stati immessi valori."
   ]
  },
  {
   "cell_type": "code",
   "execution_count": null,
   "metadata": {},
   "outputs": [],
   "source": [
    "#Scrivere un programma che calcola la media di una sequenza di n>=0 interi\n",
    "#media di una sequenza di n>=0 interi con lettura fuori ciclo\n"
   ]
  },
  {
   "cell_type": "markdown",
   "metadata": {},
   "source": [
    "### Esercizio 5: \n",
    "Scrivere un programma che legge una sequenza di n>=0 interi (letta da input e terminata dall'introduzione di un asterisco), e stampa a schermo il numero di interi negativi inseriti."
   ]
  },
  {
   "cell_type": "code",
   "execution_count": null,
   "metadata": {},
   "outputs": [],
   "source": []
  },
  {
   "cell_type": "markdown",
   "metadata": {},
   "source": [
    "### Esercizio 6:\n",
    "Scrivere un programma che legge da tastiera una stringa `s` e ed un intero n>0 che rappresenta il passo e stampa a schermo, uno per riga, i caratteri di `s` separati da una distanza pari al passo `p`. Ad esempio, se `s=armadio` e`p=2`, il programma stampa<br>\n",
    "`carattere 0 = a`<br>\n",
    "`carattere 2 = m`<br>\n",
    "`carattere 4 = d`<br>\n",
    "`carattere 6 = o`<br>"
   ]
  },
  {
   "cell_type": "code",
   "execution_count": null,
   "metadata": {},
   "outputs": [],
   "source": [
    "#stampa i singoli caratteri di una stringa distanziati di passo :\n",
    "# s[0], s[passo], s[2*passo], etc...\n"
   ]
  }
 ],
 "metadata": {
  "kernelspec": {
   "display_name": "Python 3 (ipykernel)",
   "language": "python",
   "name": "python3"
  },
  "language_info": {
   "codemirror_mode": {
    "name": "ipython",
    "version": 3
   },
   "file_extension": ".py",
   "mimetype": "text/x-python",
   "name": "python",
   "nbconvert_exporter": "python",
   "pygments_lexer": "ipython3",
   "version": "3.9.7"
  }
 },
 "nbformat": 4,
 "nbformat_minor": 4
}
