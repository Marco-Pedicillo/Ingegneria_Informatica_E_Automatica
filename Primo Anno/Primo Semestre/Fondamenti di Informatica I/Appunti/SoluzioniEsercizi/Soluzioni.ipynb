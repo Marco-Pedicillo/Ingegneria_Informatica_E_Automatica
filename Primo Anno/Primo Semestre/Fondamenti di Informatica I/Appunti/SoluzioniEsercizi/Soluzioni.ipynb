{
 "cells": [
  {
   "cell_type": "markdown",
   "metadata": {
    "slideshow": {
     "slide_type": "slide"
    }
   },
   "source": [
    "#### Autori: Domenico Lembo, Giuseppe Santucci and Marco Schaerf\n",
    "\n",
    "[Dipartimento di Ingegneria informatica, automatica e gestionale](https://www.diag.uniroma1.it)\n",
    "\n",
    "<img src=\"https://mirrors.creativecommons.org/presskit/buttons/88x31/png/by-nc-sa.eu.png\"\n",
    "     alt=\"License\"\n",
    "     style=\"float: left;\"\n",
    "     height=\"40\" width=\"100\" />\n",
    "This notebook is distributed with license Creative Commons *CC BY-NC-SA*"
   ]
  },
  {
   "cell_type": "markdown",
   "metadata": {},
   "source": [
    "## Soluzioni Esercizi\n",
    "Questo Notebook contiene l'indice delle soluzioni degli esercizi proposti alla fine di ogni argomento trattato nel corso, contenuti in un file per ogni argomento\n",
    "- [01Introduzione](01.ipynb)\n",
    "- [02Variabili,input_output](02.ipynb)\n",
    "- [03Stringhe](03.ipynb)\n",
    "- [04Condizioni_e_Istruzione_if](04.ipynb)\n",
    "- [05While](05.ipynb)\n",
    "- [05Cicli_e_variabili_accumulatori](06.ipynb)\n",
    "- [07For](07.ipynb)\n",
    "- [08Break_e_Continue](08.ipynb)\n",
    "- [09Funzioni](09.ipynb)\n",
    "- [10Liste_Tuple_Insiemi](10.ipynb)\n",
    "- [11Gestione_Memoria](11.ipynb)\n",
    "- [12File](12.ipynb)\n",
    "- [13Dizionari](13.ipynb)\n",
    "- [14EspressioniRegolari](14.ipynb)\n",
    "- [15Matrici](15.ipynb)"
   ]
  },
  {
   "cell_type": "code",
   "execution_count": null,
   "metadata": {},
   "outputs": [],
   "source": []
  }
 ],
 "metadata": {
  "kernelspec": {
   "display_name": "Python 3 (ipykernel)",
   "language": "python",
   "name": "python3"
  },
  "language_info": {
   "codemirror_mode": {
    "name": "ipython",
    "version": 3
   },
   "file_extension": ".py",
   "mimetype": "text/x-python",
   "name": "python",
   "nbconvert_exporter": "python",
   "pygments_lexer": "ipython3",
   "version": "3.9.7"
  }
 },
 "nbformat": 4,
 "nbformat_minor": 4
}
