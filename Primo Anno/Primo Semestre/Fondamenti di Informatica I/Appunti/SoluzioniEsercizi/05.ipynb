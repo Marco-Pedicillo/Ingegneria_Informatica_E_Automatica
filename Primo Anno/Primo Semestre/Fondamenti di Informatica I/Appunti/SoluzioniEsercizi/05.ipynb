{
 "cells": [
  {
   "cell_type": "markdown",
   "metadata": {
    "slideshow": {
     "slide_type": "slide"
    }
   },
   "source": [
    "#### Autori: Domenico Lembo, Giuseppe Santucci and Marco Schaerf\n",
    "\n",
    "[Dipartimento di Ingegneria informatica, automatica e gestionale](https://www.diag.uniroma1.it)\n",
    "\n",
    "<img src=\"https://mirrors.creativecommons.org/presskit/buttons/88x31/png/by-nc-sa.eu.png\"\n",
    "     alt=\"License\"\n",
    "     style=\"float: left;\"\n",
    "     height=\"40\" width=\"100\" />\n",
    "This notebook is distributed with license Creative Commons *CC BY-NC-SA*"
   ]
  },
  {
   "cell_type": "markdown",
   "metadata": {},
   "source": [
    "### Soluzioni degli esercizi della sezione 05While"
   ]
  },
  {
   "cell_type": "markdown",
   "metadata": {},
   "source": [
    "### Esercizio 1: \n",
    "Scrivere un programma che legge una sequenza di stringhe inserite da input (una alla volta), ne stampa la lunghezza e termina all'inserimento di una stringa vuota (solo invio).\n",
    "\n",
    "*Fornite due soluzioni, una con prima lettura fuori dal ciclo ed una soluzione con lettura solo nel ciclo*"
   ]
  },
  {
   "cell_type": "code",
   "execution_count": 3,
   "metadata": {},
   "outputs": [
    {
     "name": "stdout",
     "output_type": "stream",
     "text": [
      "Inserire una stringa (solo invio per terminare): \n"
     ]
    }
   ],
   "source": [
    "#Soluzione con prima lettura fuori dal ciclo\n",
    "\n",
    "s = input(\"Inserire una stringa (solo invio per terminare): \") \n",
    "\n",
    "while s != \"\" :\n",
    "    print('la lunghezza della stringa inserita è : ',len(s))\n",
    "    s = input(\"Inserire un'altra stringa (solo invio per terminare): \")"
   ]
  },
  {
   "cell_type": "code",
   "execution_count": 2,
   "metadata": {
    "scrolled": true
   },
   "outputs": [
    {
     "name": "stdout",
     "output_type": "stream",
     "text": [
      "Inserire una stringa (solo invio per terminare): cioa\n",
      "la lunghezza della stringa inserita è :  4\n",
      "Inserire una stringa (solo invio per terminare): ppp\n",
      "la lunghezza della stringa inserita è :  3\n",
      "Inserire una stringa (solo invio per terminare): \n"
     ]
    }
   ],
   "source": [
    "#Soluzione con lettura solo nel ciclo\n",
    "\n",
    "s = 'a' # inizializzo ad un valore qualunque diverso dalla sentinella (stringa vuota)\n",
    "\n",
    "while s != \"\" :\n",
    "    s = input(\"Inserire una stringa (solo invio per terminare): \")\n",
    "    if s != \"\":  # necessario altrimenti stamperei la lunghezza anche della stringa vuota\n",
    "        print('la lunghezza della stringa inserita è : ',len(s))"
   ]
  },
  {
   "cell_type": "markdown",
   "metadata": {},
   "source": [
    "### Esercizio 2:\n",
    "Scrivere un programma che legge da input una sequenza di interi positivi terminata da '*' e per ognuno stampa a schermo se è pari o dispari."
   ]
  },
  {
   "cell_type": "code",
   "execution_count": 4,
   "metadata": {},
   "outputs": [
    {
     "name": "stdout",
     "output_type": "stream",
     "text": [
      "Inserire un intero (inserire* per terminare): 5\n",
      "il numero inserito è dispari\n",
      "Inserire un intero (inserire* per terminare): 3\n",
      "il numero inserito è dispari\n",
      "Inserire un intero (inserire* per terminare): 4\n",
      "il numero inserito è pari\n",
      "Inserire un intero (inserire* per terminare): 0\n",
      "il numero inserito è pari\n",
      "Inserire un intero (inserire* per terminare): -3\n",
      "il numero inserito è dispari\n",
      "Inserire un intero (inserire* per terminare): *\n"
     ]
    }
   ],
   "source": [
    "#lettura di una sequenza di interi positivi terminata da '*' e per ognuno stampa \n",
    "# a schermo se è pari o dispari.\n",
    "\n",
    "s = input(\"Inserire un intero (inserire* per terminare): \") \n",
    "\n",
    "while s != \"*\" :\n",
    "    i=int(s)\n",
    "    if i%2 == 0:\n",
    "        print('il numero inserito è pari')\n",
    "    else:\n",
    "        print('il numero inserito è dispari')\n",
    "    s = input(\"Inserire un intero (inserire* per terminare): \") "
   ]
  },
  {
   "cell_type": "markdown",
   "metadata": {},
   "source": [
    "### Esercizio 3:\n",
    "Scrivere un programma che legge da tastiera una stringa `s` ed un carattere `c` e stampa a schermo una nuova stringa uguale ad `s` ma senza la prima occorrenza del carattere `c`: 'casa','a'->> 'csa'.<br>Se il carattere `c` non compare in `s` il programma stampa la stringa `s`. \n",
    "\n",
    "Fornite 2 soluzioni, una che usa il ciclo while ed una che non usa né il while né il metodo `replace()`"
   ]
  },
  {
   "cell_type": "code",
   "execution_count": 11,
   "metadata": {},
   "outputs": [
    {
     "name": "stdout",
     "output_type": "stream",
     "text": [
      "Inserisci la stringa s: farlocco\n",
      "Inserisci il carattere c: z\n",
      "farlocco\n"
     ]
    }
   ],
   "source": [
    "# Soluzione che usa il while (e non usa replace)\n",
    "\n",
    "s=input(\"Inserisci la stringa s: \")\n",
    "c=input(\"Inserisci il carattere c: \")\n",
    "\n",
    "i=0\n",
    "while i < len(s) and s[i]!=c:\n",
    "    i=i+1\n",
    "\n",
    "if i==len(s): # il ciclo è terminato senza trovare c\n",
    "    print(s)\n",
    "else:\n",
    "    print(s[:i]+s[i+1:])"
   ]
  },
  {
   "cell_type": "code",
   "execution_count": 15,
   "metadata": {},
   "outputs": [
    {
     "name": "stdout",
     "output_type": "stream",
     "text": [
      "Inserisci la stringa s: pippo\n",
      "Inserisci il carattere c: p\n",
      "ippo\n"
     ]
    }
   ],
   "source": [
    "# Soluzione senza il ciclo while e senza il metodo replace\n",
    "s=input(\"Inserisci la stringa s: \")\n",
    "c=input(\"Inserisci il carattere c: \")\n",
    "\n",
    "indice_c= s.find(c)\n",
    "\n",
    "if (indice_c>=0):\n",
    "    s1=s[:indice_c]+s[indice_c+1:]\n",
    "else:\n",
    "    s1=s\n",
    "\n",
    "print(s1)\n",
    "\n"
   ]
  }
 ],
 "metadata": {
  "kernelspec": {
   "display_name": "Python 3 (ipykernel)",
   "language": "python",
   "name": "python3"
  },
  "language_info": {
   "codemirror_mode": {
    "name": "ipython",
    "version": 3
   },
   "file_extension": ".py",
   "mimetype": "text/x-python",
   "name": "python",
   "nbconvert_exporter": "python",
   "pygments_lexer": "ipython3",
   "version": "3.9.7"
  }
 },
 "nbformat": 4,
 "nbformat_minor": 4
}
