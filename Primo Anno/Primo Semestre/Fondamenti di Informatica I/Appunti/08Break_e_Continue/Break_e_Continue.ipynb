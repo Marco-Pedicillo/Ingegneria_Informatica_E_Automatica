{
 "cells": [
  {
   "cell_type": "markdown",
   "metadata": {
    "slideshow": {
     "slide_type": "slide"
    }
   },
   "source": [
    "#### Autori: Domenico Lembo, Giuseppe Santucci and Marco Schaerf\n",
    "\n",
    "[Dipartimento di Ingegneria informatica, automatica e gestionale](https://www.diag.uniroma1.it)\n",
    "\n",
    "<img src=\"https://mirrors.creativecommons.org/presskit/buttons/88x31/png/by-nc-sa.eu.png\"\n",
    "     alt=\"License\"\n",
    "     style=\"float: left;\"\n",
    "     height=\"40\" width=\"100\" />\n",
    "This notebook is distributed with license Creative Commons *CC BY-NC-SA*"
   ]
  },
  {
   "cell_type": "markdown",
   "metadata": {},
   "source": [
    "# Le istruzioni break e continue\n",
    "1. Istruzione `break`\n",
    "2. Istruzione `continue`\n",
    "3. uso di `break` e `continue` nel ciclo `for`"
   ]
  },
  {
   "cell_type": "markdown",
   "metadata": {},
   "source": [
    "### Istruzione `break`\n",
    "\n",
    "Si è visto che l’esecuzione di un’istruzione iterativa espressa con l'istruzione `while` termina quando, all’inizio di un’iterazione, l’espressione condizionale risulta falsa, mentre una istruzione iterativa espressa con l'istruzione `for` termina quando l'intera sequenza di valori su cui si sta iterando è stata processata.\n",
    "\n",
    "Per concludere l’esecuzione di un’istruzione iterativa è anche possibile usare l’istruzione **break**. \n",
    "\n",
    "Questa istruzione **può essere usata solo all’interno di un’istruzione iterativa**, in un qualsiasi punto della sequenza di istruzioni da ripetere.\n",
    "\n",
    "Di norma l’istruzione break *viene scritta all’interno di un’istruzione condizionale nidificata in un’istruzione iterativa*, per concludere l’esecuzione di quest’ultima nel caso in cui si verifichi una data condizione.\n",
    "\n",
    "Quando l’interprete incontra l’istruzione break conclude immediatamente l’esecuzione dell’istruzione iterativa, e passa a eseguire l’istruzione successiva."
   ]
  },
  {
   "cell_type": "code",
   "execution_count": null,
   "metadata": {},
   "outputs": [],
   "source": [
    "# Programma che riceve in input un numero intero\n",
    "# positivo e verifica se è un numero primo\n",
    "\n",
    "# versione già vista\n",
    "\n",
    "\n",
    "#n = int(input(\"Inserire un numero naturale maggiore di 1: \"))\n",
    "#\n",
    "#i = 2 #cerco un divisore, partendo da 2\n",
    "#limite = n-1 #massimo numero da considerare per verificare se c'è un divisore\n",
    "#\n",
    "#while i <= limite and n%i != 0: #finchè non ho raggiunto il limite e non ho trovato un divisore\n",
    "#    i += 1 #vado a provare il prossimo divisore\n",
    "#if i >= limite: #non ho trovato un divisore\n",
    "#    print('numero primo')\n",
    "#else:\n",
    "#    print('numero non primo')\n",
    "\n",
    "# versione che usa il break\n",
    "\n",
    "n = int(input(\"Inserire un numero naturale maggiore di 1: \"))\n",
    "\n",
    "i = 2 \n",
    "limite = n-1 #massimo numero da considerare per verificare se c'è un divisore\n",
    "\n",
    "while i <= limite:\n",
    "    if n%i == 0:\n",
    "        print('numero non primo')\n",
    "        break\n",
    "    i += 1 \n",
    "if i >= limite: \n",
    "    print('numero primo')\n"
   ]
  },
  {
   "cell_type": "markdown",
   "metadata": {},
   "source": [
    "Notate che il break non aggiunge potere espressivo al linguaggio, ma in alcuni casi consente di scrivere un codice più compatto o efficiente. E' comunque sempre possibile riscrivere un ciclo in cui compare il break in modo che il break non sia usato."
   ]
  },
  {
   "cell_type": "code",
   "execution_count": null,
   "metadata": {},
   "outputs": [],
   "source": [
    "# Programma che riceve in input un numero intero\n",
    "# positivo e verifica se è un numero primo\n",
    "\n",
    "# versione senza break\n",
    "\n",
    "n = int(input(\"Inserire un numero naturale maggiore di 1: \"))\n",
    "primo = True\n",
    "i = 2 \n",
    "limite = n-1 #massimo numero da considerare per verificare se c'è un divisore\n",
    "\n",
    "while i <= limite and primo:\n",
    "    if n%i == 0:\n",
    "        primo = False\n",
    "    i += 1 \n",
    "if primo:\n",
    "    print('numero primo')\n",
    "else:\n",
    "    print('numero non primo')"
   ]
  },
  {
   "cell_type": "markdown",
   "metadata": {},
   "source": [
    "### Istruzione `continue`\n",
    "\n",
    "Analogamente all’istruzione break, l’istruzione **continue può essere solo usata all’interno di un ciclo**, e normalmente è scritta all’interno di un’istruzione condizionale presente nel ciclo **per interrompere l’esecuzione di UNA iterazione** nel caso in cui si verifichi una data condizione.\n",
    "\n",
    "Quindi, diversamente dal break, l’istruzione continue non causa l’interruzione del ciclo, spostando quindi il controllo alla istruzione immediatamente dopo il ciclo (se presente),  ma interrompe solo l’esecuzione dell’iterazione in corso, e sposta il controllo all’inizio del ciclo stesso. \n",
    "\n",
    "Dopo l’esecuzione dell’istruzione continue l’iterazione sarà quindi valutata nuovamente."
   ]
  },
  {
   "cell_type": "code",
   "execution_count": null,
   "metadata": {},
   "outputs": [],
   "source": [
    "# Programma che stampa tutti i numeri da 9 a 0 tranne il 5\n",
    "\n",
    "var = 10\n",
    "while var > 0:              \n",
    "    var = var -1\n",
    "    if var != 5:\n",
    "        continue\n",
    "    print(\"valore variabile corrente:\", var)\n",
    "print(\"fine!\")\n"
   ]
  },
  {
   "cell_type": "code",
   "execution_count": null,
   "metadata": {},
   "outputs": [],
   "source": [
    "# Programma che stampa tutti i numeri pari fra da 9 a 0\n",
    "\n",
    "var = 10\n",
    "while var > 0:              \n",
    "    var = var -1\n",
    "    if var % 2 != 0:\n",
    "        continue\n",
    "    print(\"valore variabile corrente:\", var)\n",
    "print(\"fine!\")\n"
   ]
  },
  {
   "cell_type": "markdown",
   "metadata": {},
   "source": [
    "### Uso di break e continue nel ciclo for\n",
    "\n",
    "Analogamente al ciclo while, anche nel ciclo for è possibile usare l’istruzione break e/o l’istruzione continue, con lo stesso significato visto per il while"
   ]
  },
  {
   "cell_type": "code",
   "execution_count": null,
   "metadata": {},
   "outputs": [],
   "source": [
    "# Programma che riceve in input un numero intero\n",
    "# positivo e verifica se è un numero primo\n",
    "\n",
    "# versione con for e break\n",
    "\n",
    "n = int(input('Inserire un numero naturale maggiore di 1: '))\n",
    "\n",
    "for i in range(2,n) :\n",
    "    if n % i == 0 :\n",
    "        print ('numero non primo')\n",
    "        break\n",
    "if n==2 or n % i != 0:\n",
    "    print ('numero primo')\n",
    "    \n",
    "    \n",
    "# notiamo che se non si entra nel ciclo (caso di n \n",
    "# uguale a 2) la variabile divisore non viene \n",
    "# inizializzata e pertanto questi casi vanno trattati \n",
    "# esplicitamente dopo il ciclo."
   ]
  },
  {
   "cell_type": "markdown",
   "metadata": {},
   "source": [
    "Di seguito forniamo una versione *ottimizzata* del programma (e che considera anche il caso in cui il numero in input sia uguale ad 1). Notiamo che, rispetto alla versione precedente, nel caso in cui si inserisca un numero primo il programma seguente esegue un numero ridotto di iterazioni (circa la metà), mentre nel caso in cui il numero inserito sia non primo i due programmi eseguono lo stesso numero di iterazioni."
   ]
  },
  {
   "cell_type": "code",
   "execution_count": null,
   "metadata": {},
   "outputs": [],
   "source": [
    "n = int(input(\"Inserire un intero positivo: \"))\n",
    "\n",
    "for i in range(2,(n//2)+1) :\n",
    "    if n % i == 0 :\n",
    "        print (\"Il numero\", n, \"non è primo\")\n",
    "        break\n",
    "if n==2 or n==3 or (n!=1 and n % i != 0):\n",
    "    print (\"Il numero\", n, \"è primo\")\n",
    "elif n==1:\n",
    "    print (\"Il numero\", n, \"non è primo\")\n",
    "    \n",
    "# notiamo che se non si entra nel ciclo (casi di n \n",
    "# uguale a 1, 2 o 3) la variabile divisore non viene \n",
    "# inizializzata e pertanto questi casi vanno trattati \n",
    "# esplicitamente dopo il ciclo."
   ]
  },
  {
   "cell_type": "markdown",
   "metadata": {},
   "source": [
    "### Esempio complesso con uso del break\n",
    "\n",
    "Riprendiamo l'esercizio per la conversione di un numerale da base 2-16 a base 10, presente nelle note sul for, e inseriamo dei controlli per verificare che l'input inserito da utente sia corretto. Aiutiamoci con il `break` all'interno del ciclo `for` interno."
   ]
  },
  {
   "cell_type": "code",
   "execution_count": null,
   "metadata": {},
   "outputs": [],
   "source": [
    "finito=False\n",
    "while not finito:\n",
    "    \n",
    "    #-----------\n",
    "    base=input(\"inserisci la base (2..16): \")\n",
    "    if not (base.isdecimal() and (2<=int(base)<=16)):\n",
    "        print('inserito un input errato per la base')\n",
    "        break\n",
    "    base=int(base)\n",
    "    s=input(\"numerale in base \"+str(base)+\": \")\n",
    "    valore=0\n",
    "    potenza=len(s)-1\n",
    "    errore = False\n",
    "    for c in s:\n",
    "        if not (c.isdecimal() or c in \"ABCDEF\"):\n",
    "            print('inserito un numerale errato per la base')\n",
    "            errore=True\n",
    "            break\n",
    "        if c in \"ABCDEF\":\n",
    "            c = ord(c)-ord(\"A\")+10\n",
    "        else:\n",
    "            c=int(c)\n",
    "        if not (0<=c<base):\n",
    "            print('inserito un numerale errato per la base')\n",
    "            errore = True\n",
    "            break\n",
    "        valore=valore+c*base**potenza\n",
    "        potenza=potenza-1\n",
    "    if not errore:\n",
    "        print(s,\"vale\",valore)\n",
    "    #------------\n",
    "    s1=input(\"----Finisco (si/no)? \")\n",
    "    finito=s1.lower()==\"si\""
   ]
  },
  {
   "cell_type": "markdown",
   "metadata": {},
   "source": [
    "### Esercizi\n",
    "Completate questi esercizi prima di cominciare il prossimo argomento"
   ]
  },
  {
   "cell_type": "markdown",
   "metadata": {},
   "source": [
    "### Esercizio 1: \n",
    "Scrivete un programma (usando il break per efficienza) che legge in input una stringa s ed un numero intero n e stampa il primo carattere di s il cui codice Unicode sia un multiplo di n."
   ]
  },
  {
   "cell_type": "code",
   "execution_count": null,
   "metadata": {},
   "outputs": [],
   "source": []
  },
  {
   "cell_type": "markdown",
   "metadata": {},
   "source": [
    "### Esercizio 2:\n",
    "Scrivete un programma (usando il break) che legge in input due interi positivi calcola il loro massimo comun divisore e lo stampa a schermo."
   ]
  },
  {
   "cell_type": "code",
   "execution_count": null,
   "metadata": {},
   "outputs": [],
   "source": [
    "n1=int(input('inserire un intero positivo: '))\n",
    "n2=int(input('inserire un intero positivo: '))\n"
   ]
  },
  {
   "cell_type": "markdown",
   "metadata": {},
   "source": [
    "### Esercizio 3:\n",
    "Scrivere un programma (usando il break ed il for) che legge in input una stringa e verifica se ci sia una doppia, cioè due lettere alfabetiche uguali consecutive. In caso positivo stampa 'SI', in caso negativo 'NO'"
   ]
  },
  {
   "cell_type": "code",
   "execution_count": 1,
   "metadata": {},
   "outputs": [
    {
     "name": "stdout",
     "output_type": "stream",
     "text": [
      "inserire una stringa: mamma\n",
      "NO\n",
      "NO\n",
      "SI\n",
      "NO\n"
     ]
    },
    {
     "ename": "IndexError",
     "evalue": "string index out of range",
     "output_type": "error",
     "traceback": [
      "\u001b[1;31m---------------------------------------------------------------------------\u001b[0m",
      "\u001b[1;31mIndexError\u001b[0m                                Traceback (most recent call last)",
      "\u001b[1;32m~\\AppData\\Local\\Temp/ipykernel_16168/1933207401.py\u001b[0m in \u001b[0;36m<module>\u001b[1;34m\u001b[0m\n\u001b[0;32m      4\u001b[0m \u001b[1;32mfor\u001b[0m \u001b[0mi\u001b[0m \u001b[1;32min\u001b[0m \u001b[0mrange\u001b[0m\u001b[1;33m(\u001b[0m\u001b[0mlen\u001b[0m\u001b[1;33m(\u001b[0m\u001b[0ms\u001b[0m\u001b[1;33m)\u001b[0m\u001b[1;33m)\u001b[0m\u001b[1;33m:\u001b[0m\u001b[1;33m\u001b[0m\u001b[1;33m\u001b[0m\u001b[0m\n\u001b[0;32m      5\u001b[0m     \u001b[1;32mwhile\u001b[0m \u001b[0mp\u001b[0m\u001b[1;33m<\u001b[0m\u001b[0mlen\u001b[0m\u001b[1;33m(\u001b[0m\u001b[0ms\u001b[0m\u001b[1;33m)\u001b[0m\u001b[1;33m:\u001b[0m\u001b[1;33m\u001b[0m\u001b[1;33m\u001b[0m\u001b[0m\n\u001b[1;32m----> 6\u001b[1;33m         \u001b[1;32mif\u001b[0m \u001b[0ms\u001b[0m\u001b[1;33m[\u001b[0m\u001b[0mp\u001b[0m\u001b[1;33m]\u001b[0m\u001b[1;33m==\u001b[0m\u001b[0ms\u001b[0m\u001b[1;33m[\u001b[0m\u001b[0mp\u001b[0m\u001b[1;33m+\u001b[0m\u001b[1;36m1\u001b[0m\u001b[1;33m]\u001b[0m\u001b[1;33m:\u001b[0m\u001b[1;33m\u001b[0m\u001b[1;33m\u001b[0m\u001b[0m\n\u001b[0m\u001b[0;32m      7\u001b[0m             \u001b[0mprint\u001b[0m \u001b[1;33m(\u001b[0m\u001b[1;34m'SI'\u001b[0m\u001b[1;33m)\u001b[0m\u001b[1;33m\u001b[0m\u001b[1;33m\u001b[0m\u001b[0m\n\u001b[0;32m      8\u001b[0m         \u001b[1;32melse\u001b[0m\u001b[1;33m:\u001b[0m\u001b[1;33m\u001b[0m\u001b[1;33m\u001b[0m\u001b[0m\n",
      "\u001b[1;31mIndexError\u001b[0m: string index out of range"
     ]
    }
   ],
   "source": [
    "s=input('inserire una stringa: ')\n",
    "p=0\n",
    "\n",
    "for i in range(len(s)):\n",
    "    while p<len(s):\n",
    "        if s[p]==s[p+1]:\n",
    "            print ('SI')\n",
    "        else:\n",
    "            print('NO')\n",
    "        p+=1\n",
    "    break\n",
    "\n",
    "    "
   ]
  },
  {
   "cell_type": "code",
   "execution_count": null,
   "metadata": {},
   "outputs": [],
   "source": []
  }
 ],
 "metadata": {
  "kernelspec": {
   "display_name": "Python 3 (ipykernel)",
   "language": "python",
   "name": "python3"
  },
  "language_info": {
   "codemirror_mode": {
    "name": "ipython",
    "version": 3
   },
   "file_extension": ".py",
   "mimetype": "text/x-python",
   "name": "python",
   "nbconvert_exporter": "python",
   "pygments_lexer": "ipython3",
   "version": "3.9.7"
  }
 },
 "nbformat": 4,
 "nbformat_minor": 4
}
